{
 "cells": [
  {
   "cell_type": "markdown",
   "metadata": {},
   "source": [
    "# Challenge 1\n",
    "\n",
    "A and B are events of a certain probability space $(\\omega, \\sigma, P)$ such that $P(A) = 0.3$, $P(B) = 0.6$ and $P(A \\cap B) = 0.1$.\n",
    "\n",
    "Which are false?\n",
    "* $P(A \\cup B) = 0.6$\n",
    "* $P(A \\cap B^{C}) = 0.2$\n",
    "* $P(A \\cap (B \\cup B^{C})) = 0.4$\n",
    "* $P(A^{C} \\cap B^{C}) = 0.3$\n",
    "* $P((A \\cap B)^{C}) = 0.9$"
   ]
  },
  {
   "cell_type": "markdown",
   "metadata": {},
   "source": [
    "* $P(A \\cup B) = 0.6\\rightarrow FALSE$ because $P(A \\cup B) = P(A) + P(B) - P(A \\cap B) = 0.3 + 0.6 - 0.1 = 0.8 \\neq 0.6$\n",
    "* $P(A \\cap B^{C}) = 0.2\\rightarrow TRUE$ because $P(A \\cap B^{C}) = P(A) - P(A \\cup B ) = 0.3 - 0.1  = 0.2$\n",
    "* $P(A \\cap (B \\cup B^{C})) = 0.4\\rightarrow FALSE$ because $P(A \\cap (B \\cup B^{C})) = P(A) = 0.3 \\neq 0.4$\n",
    "* $P(A^{C} \\cap B^{C}) = 0.3\\rightarrow FALSE$ because $P(A^{C} \\cap B^{C}) = 1 - P(A \\cup B) = 1 - 0.8 = 0.2 \\neq 0.3$\n",
    "* $P((A \\cap B)^{C}) = 0.9\\rightarrow TRUE$ because $P((A \\cap B)^{C}) = 1 - 0.1 = 0.9$"
   ]
  },
  {
   "cell_type": "markdown",
   "metadata": {},
   "source": [
    "# Challenge 2\n",
    "We have an urn with 10 white balls, 12 red balls and 8 black balls. Calculate the probability of:\n",
    "* Taking a white ball.\n",
    "* Taking a white ball after taking a black ball.\n",
    "* Taking a red ball after taking a black and a red ball.\n",
    "* Taking a red ball after taking a black and a red ball with reposition (that means after taking a ball I put it back to the urn).\n"
   ]
  },
  {
   "cell_type": "markdown",
   "metadata": {},
   "source": [
    "* $P(white ball) = \\frac{white ball} {white ball + red ball + black ball} = \\frac {10}{10+12+8} = \\frac {1}{3}$\n",
    "\n",
    "* $P(black ball \\cap white ball) = P(black ball) \\cdot P(white ball|black ball) = \\frac {8}{30} \\cdot \\frac {10}{29} = \\frac {10}{29}$\n",
    "\n",
    "* $P(red ball \\cap red ball\\cap black ball) = P(red ball \\cap black ball) \\cdot P(red ball|red ball \\cap black ball) = P(black ball) \\cdot P(red ball|black ball) \\cdot P(red ball|red ball \\cap black ball) = \\frac {8}{30} \\cdot \\frac {12}{29} \\cdot \\frac {11}{28} = \\frac {9}{28}$\n",
    "\n",
    "* $P(red ball \\cap red ball\\cap black ball) = P(black ball) \\cdot P(red ball) \\cdot P(red ball) = \\frac {8}{30} \\cdot \\frac {12}{30} \\cdot \\frac {12}{30} = \\frac {2}{5}$"
   ]
  },
  {
   "cell_type": "markdown",
   "metadata": {},
   "source": [
    "# Challenge 3\n",
    "\n",
    "You are planning a picnic today, but the morning is cloudy. So you look for some data:\n",
    "* 50% of all rainy days start off cloudy!\n",
    "* But cloudy mornings are common (about 40% of days start cloudy)\n",
    "* And this is usually a dry month (only 3 of 30 days (10%) tend to be rainy)\n",
    "\n",
    "What is the chance of rain during the day?\n",
    "\n"
   ]
  },
  {
   "cell_type": "markdown",
   "metadata": {},
   "source": [
    "𝑃(𝐴|𝐵)=𝑃(𝐵|𝐴)·𝑃(𝐴)/𝑃(𝐵)=0.5·0.1/0.4=0.125\n",
    "\n",
    "$P(Rainy|Cloudy) = \\frac{P(Rainy) \\cdot P(Cloudy|Rainy)}{P(Cloudy)} = \\frac{0.1 \\cdot 0.5}{0.4} =0.125$ as if we multiply $ 0.125 \\cdot 100 = 12.5 \\rightarrow $ There's is a 12.5% chance it rains today."
   ]
  },
  {
   "cell_type": "markdown",
   "metadata": {},
   "source": [
    "#### Challenge 4\n",
    "\n",
    "By conducting a telephone survey, we asked 1000 people if they thought it is necessary to have more street lighting at night.\n",
    "\n",
    "We have met 480 men, 324 of which answered yes and 156 no, as well as 520 women, 351 of which answered yes and 169 no. We wonder if men and women have a different opinion or if gender is irrelevant to the question.\n",
    "\n",
    "(To see more clearly what they told us, it is best to place the data in a table)\n",
    "\n",
    "\n",
    "Consider the following events:\n",
    "- Wants more light (answered yes)\n",
    "- A man answered\n",
    "\n",
    "\n",
    "We ask ourselves if these events are independent, that is, if the fact of wanting more light depends on whether one is male or female. Are these events independent or not?"
   ]
  },
  {
   "cell_type": "code",
   "execution_count": 1,
   "metadata": {},
   "outputs": [],
   "source": [
    "import pandas as pd\n",
    "import numpy as np"
   ]
  },
  {
   "cell_type": "code",
   "execution_count": 2,
   "metadata": {},
   "outputs": [
    {
     "data": {
      "text/html": [
       "<div>\n",
       "<style scoped>\n",
       "    .dataframe tbody tr th:only-of-type {\n",
       "        vertical-align: middle;\n",
       "    }\n",
       "\n",
       "    .dataframe tbody tr th {\n",
       "        vertical-align: top;\n",
       "    }\n",
       "\n",
       "    .dataframe thead th {\n",
       "        text-align: right;\n",
       "    }\n",
       "</style>\n",
       "<table border=\"1\" class=\"dataframe\">\n",
       "  <thead>\n",
       "    <tr style=\"text-align: right;\">\n",
       "      <th></th>\n",
       "      <th>Yes</th>\n",
       "      <th>No</th>\n",
       "    </tr>\n",
       "  </thead>\n",
       "  <tbody>\n",
       "    <tr>\n",
       "      <th>Men</th>\n",
       "      <td>0.675</td>\n",
       "      <td>0.325</td>\n",
       "    </tr>\n",
       "    <tr>\n",
       "      <th>Women</th>\n",
       "      <td>0.675</td>\n",
       "      <td>0.325</td>\n",
       "    </tr>\n",
       "  </tbody>\n",
       "</table>\n",
       "</div>"
      ],
      "text/plain": [
       "         Yes     No\n",
       "Men    0.675  0.325\n",
       "Women  0.675  0.325"
      ]
     },
     "execution_count": 2,
     "metadata": {},
     "output_type": "execute_result"
    }
   ],
   "source": [
    "pd.DataFrame({\"Yes\": [324/480, 351/520], \"No\": [156/480, 169/520]}, index=[\"Men\", \"Women\"])"
   ]
  },
  {
   "cell_type": "markdown",
   "metadata": {},
   "source": [
    "Those two events are completely independent as the result is tha same for both genders on both possible answers."
   ]
  }
 ],
 "metadata": {
  "kernelspec": {
   "display_name": "Python 3",
   "language": "python",
   "name": "python3"
  },
  "language_info": {
   "codemirror_mode": {
    "name": "ipython",
    "version": 3
   },
   "file_extension": ".py",
   "mimetype": "text/x-python",
   "name": "python",
   "nbconvert_exporter": "python",
   "pygments_lexer": "ipython3",
   "version": "3.7.6"
  },
  "varInspector": {
   "cols": {
    "lenName": 16,
    "lenType": 16,
    "lenVar": 40
   },
   "kernels_config": {
    "python": {
     "delete_cmd_postfix": "",
     "delete_cmd_prefix": "del ",
     "library": "var_list.py",
     "varRefreshCmd": "print(var_dic_list())"
    },
    "r": {
     "delete_cmd_postfix": ") ",
     "delete_cmd_prefix": "rm(",
     "library": "var_list.r",
     "varRefreshCmd": "cat(var_dic_list()) "
    }
   },
   "types_to_exclude": [
    "module",
    "function",
    "builtin_function_or_method",
    "instance",
    "_Feature"
   ],
   "window_display": false
  }
 },
 "nbformat": 4,
 "nbformat_minor": 2
}
