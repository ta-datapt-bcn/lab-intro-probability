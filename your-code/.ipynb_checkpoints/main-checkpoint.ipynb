{
 "cells": [
  {
   "cell_type": "markdown",
   "metadata": {},
   "source": [
    "# Challenge 1\n",
    "\n",
    "A and B are events of a certain probability space $(\\omega, \\sigma, P)$ such that $P(A) = 0.3$, $P(B) = 0.6$ and $P(A \\cap B) = 0.1$.\n",
    "\n",
    "Which are false?\n",
    "* $P(A \\cup B) = 0.6$ \n",
    "\n",
    "False. The probability of A *or* B happening is the probability of A (0.3) + probability of B (0.6) minus the probability that both happen at the same time (0.1). So it is 0.8.\n",
    "\n",
    "* $P(A \\cap B^{C}) = 0.2$\n",
    "* $P(A \\cap (B \\cup B^{C})) = 0.4$\n",
    "* $P(A^{C} \\cap B^{C}) = 0.3$\n",
    "* $P((A \\cap B)^{C}) = 0.9$\n",
    "\n",
    "I didn't answer the rest because I don't understand what c stands for."
   ]
  },
  {
   "cell_type": "markdown",
   "metadata": {},
   "source": [
    "# Challenge 2\n",
    "We have an urn with 10 white balls, 12 red balls and 8 black balls. Calculate the probability of:\n",
    "* Taking a white ball.\n",
    "\n",
    "10/30 = 0.33\n",
    "\n",
    "* Taking a white ball after taking a black ball.\n",
    "\n",
    "Black ball: 8/30 = 0.27\n",
    "\n",
    "White after black ball: 0.27*(10/29) = 0.092\n",
    "\n",
    "* Taking a red ball after taking a black and a red ball.\n",
    "\n",
    "Red ball: 12/30 = 0.4\n",
    "\n",
    "Black after red: 0.4*(8/29) = 0.11\n",
    "\n",
    "Red after black and red : 0.11*(11/28) = 0.043\n",
    "\n",
    "* Taking a red ball after taking a black and a red ball with reposition (that means after taking a ball I put it back to the urn).\n",
    "\n",
    "Red ball : 12/30 = 0.4\n",
    "\n",
    "Black after red: 0.4*(8/30) = 0.106\n",
    "\n",
    "Red after black and red : 0.11*(11/30) = 0.0427"
   ]
  },
  {
   "cell_type": "markdown",
   "metadata": {},
   "source": [
    "# Challenge 3\n",
    "\n",
    "You are planning a picnic today, but the morning is cloudy. So you look for some data:\n",
    "* 50% of all rainy days start off cloudy!\n",
    "* But cloudy mornings are common (about 40% of days start cloudy)\n",
    "* And this is usually a dry month (only 3 of 30 days (10%) tend to be rainy)\n",
    "\n",
    "What is the chance of rain during the day?\n",
    "\n"
   ]
  },
  {
   "cell_type": "markdown",
   "metadata": {},
   "source": [
    "**Applying Baye's theorem:**\n",
    "\n",
    "P(rain/cloud) = (P(cloud/rain) * P(rain)) / P(cloud)\n",
    "\n",
    "(0.5 * 0.1) / 0.4 = 0.125\n",
    "\n",
    "The probability of raining when the morning is cloudy (this month) is 0.125."
   ]
  },
  {
   "cell_type": "markdown",
   "metadata": {},
   "source": [
    "# Challenge 4\n",
    "\n",
    "By conducting a telephone survey, we asked 1000 people if they thought it is necessary to have more street lighting at night.\n",
    "\n",
    "We have met 480 men, 324 of which answered yes and 156 no, as well as 520 women, 351 of which answered yes and 169 no. We wonder if men and women have a different opinion or if gender is irrelevant to the question.\n",
    "\n",
    "(To see more clearly what they told us, it is best to place the data in a table)\n",
    "\n",
    "\n",
    "Consider the following events:\n",
    "- Wants more light (answered yes)\n",
    "- A man answered\n",
    "\n",
    "\n",
    "We ask ourselves if these events are independent, that is, if the fact of wanting more light depends on whether one is male or female. Are these events independent or not?"
   ]
  },
  {
   "cell_type": "markdown",
   "metadata": {},
   "source": [
    "**Those events are independent** since the ratio of men and women wanting more lighting is exactly the same.\n",
    "\n",
    "324/156 = 351/169"
   ]
  }
 ],
 "metadata": {
  "kernelspec": {
   "display_name": "Python 3",
   "language": "python",
   "name": "python3"
  },
  "language_info": {
   "codemirror_mode": {
    "name": "ipython",
    "version": 3
   },
   "file_extension": ".py",
   "mimetype": "text/x-python",
   "name": "python",
   "nbconvert_exporter": "python",
   "pygments_lexer": "ipython3",
   "version": "3.8.5"
  }
 },
 "nbformat": 4,
 "nbformat_minor": 2
}
