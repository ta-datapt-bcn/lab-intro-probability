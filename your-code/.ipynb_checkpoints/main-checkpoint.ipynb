{
 "cells": [
  {
   "cell_type": "markdown",
   "metadata": {},
   "source": [
    "# Challenge 1\n",
    "\n",
    "A and B are events of a certain probability space $(\\omega, \\sigma, P)$ such that $P(A) = 0.3$, $P(B) = 0.6$ and $P(A \\cap B) = 0.1$.\n",
    "\n",
    "Which are false?\n",
    "* $P(A \\cup B) = 0.6$\n",
    "* $P(A \\cap B^{C}) = 0.2$\n",
    "* $P(A \\cap (B \\cup B^{C})) = 0.4$\n",
    "* $P(A^{C} \\cap B^{C}) = 0.3$\n",
    "* $P((A \\cap B)^{C}) = 0.9$"
   ]
  },
  {
   "cell_type": "markdown",
   "metadata": {},
   "source": [
    "Which are false?\n",
    "* $P(A \\cup B) = 0.6$ // FALSE (0.8)\n",
    "* $P(A \\cap B^{C}) = 0.2$ // TRUE\n",
    "* $P(A \\cap (B \\cup B^{C})) = 0.4$ // FALSE 0.3\n",
    "* $P(A^{C} \\cap B^{C}) = 0.3$ // FALSE (0.2)\n",
    "* $P((A \\cap B)^{C}) = 0.9$ // TRUE"
   ]
  },
  {
   "cell_type": "markdown",
   "metadata": {},
   "source": [
    "# Challenge 2\n",
    "We have an urn with 10 white balls, 12 red balls and 8 black balls. Calculate the probability of:\n",
    "* Taking a white ball.\n",
    "* Taking a white ball after taking a black ball.\n",
    "* Taking a red ball after taking a black and a red ball.\n",
    "* Taking a red ball after taking a black and a red ball with reposition (that means after taking a ball I put it back to the urn).\n"
   ]
  },
  {
   "cell_type": "markdown",
   "metadata": {},
   "source": [
    "* Taking a white ball. P(W) = 10/30 \n",
    "* Taking a white ball after taking a black ball. P(W|B) = 10/29\n",
    "* Taking a red ball after taking a black and a red ball. P(R|(B|R)) = 11/28\n",
    "* Taking a red ball after taking a black and a red ball with reposition (that means after taking a ball I put it back to the urn). P(R) = 12/30"
   ]
  },
  {
   "cell_type": "markdown",
   "metadata": {},
   "source": [
    "# Challenge 3\n",
    "\n",
    "You are planning a picnic today, but the morning is cloudy. So you look for some data:\n",
    "* 50% of all rainy days start off cloudy!\n",
    "* But cloudy mornings are common (about 40% of days start cloudy)\n",
    "* And this is usually a dry month (only 3 of 30 days (10%) tend to be rainy)\n",
    "\n",
    "What is the chance of rain during the day?\n",
    "\n"
   ]
  },
  {
   "cell_type": "markdown",
   "metadata": {},
   "source": [
    "P(C|R) = 0.5\n",
    "\n",
    "P(C) = 0.4\n",
    "\n",
    "P(R) = 0.1\n",
    "\n",
    "P(R|C)= (P(C|R)*P(C)) / P(R) = (0.5x0.4)/0.1 = 0.02 (2%)"
   ]
  },
  {
   "cell_type": "markdown",
   "metadata": {},
   "source": [
    "# Challenge 4\n",
    "\n",
    "By conducting a telephone survey, we asked 1000 people if they thought it is necessary to have more street lighting at night.\n",
    "\n",
    "We have met 480 men, 324 of which answered yes and 156 no, as well as 520 women, 351 of which answered yes and 169 no. We wonder if men and women have a different opinion or if gender is irrelevant to the question.\n",
    "\n",
    "(To see more clearly what they told us, it is best to place the data in a table)\n",
    "\n",
    "\n",
    "Consider the following events:\n",
    "- Wants more light (answered yes)\n",
    "- A man answered\n",
    "\n",
    "\n",
    "We ask ourselves if these events are independent, that is, if the fact of wanting more light depends on whether one is male or female. Are these events independent or not?"
   ]
  },
  {
   "cell_type": "code",
   "execution_count": 9,
   "metadata": {},
   "outputs": [
    {
     "data": {
      "text/html": [
       "<div>\n",
       "<style scoped>\n",
       "    .dataframe tbody tr th:only-of-type {\n",
       "        vertical-align: middle;\n",
       "    }\n",
       "\n",
       "    .dataframe tbody tr th {\n",
       "        vertical-align: top;\n",
       "    }\n",
       "\n",
       "    .dataframe thead th {\n",
       "        text-align: right;\n",
       "    }\n",
       "</style>\n",
       "<table border=\"1\" class=\"dataframe\">\n",
       "  <thead>\n",
       "    <tr style=\"text-align: right;\">\n",
       "      <th></th>\n",
       "      <th>Sex</th>\n",
       "      <th>Yes</th>\n",
       "      <th>No</th>\n",
       "      <th>Total</th>\n",
       "      <th>Prob</th>\n",
       "    </tr>\n",
       "  </thead>\n",
       "  <tbody>\n",
       "    <tr>\n",
       "      <th>0</th>\n",
       "      <td>Men</td>\n",
       "      <td>325</td>\n",
       "      <td>156</td>\n",
       "      <td>481</td>\n",
       "      <td>0.675676</td>\n",
       "    </tr>\n",
       "    <tr>\n",
       "      <th>1</th>\n",
       "      <td>Women</td>\n",
       "      <td>351</td>\n",
       "      <td>169</td>\n",
       "      <td>520</td>\n",
       "      <td>0.675000</td>\n",
       "    </tr>\n",
       "  </tbody>\n",
       "</table>\n",
       "</div>"
      ],
      "text/plain": [
       "     Sex  Yes   No  Total      Prob\n",
       "0    Men  325  156    481  0.675676\n",
       "1  Women  351  169    520  0.675000"
      ]
     },
     "execution_count": 9,
     "metadata": {},
     "output_type": "execute_result"
    }
   ],
   "source": [
    "import pandas as pd\n",
    "df= pd.DataFrame({'Sex': ['Men','Women'], 'Yes': [325,351], 'No': [156,169]})\n",
    "df['Total']=df['Yes']+df['No']\n",
    "df['Prob']=df['Yes']/df['Total']\n",
    "df"
   ]
  },
  {
   "cell_type": "code",
   "execution_count": 8,
   "metadata": {},
   "outputs": [],
   "source": [
    "#Events are independent as both have the same % of answers"
   ]
  },
  {
   "cell_type": "code",
   "execution_count": null,
   "metadata": {},
   "outputs": [],
   "source": []
  }
 ],
 "metadata": {
  "kernelspec": {
   "display_name": "Python 3",
   "language": "python",
   "name": "python3"
  },
  "language_info": {
   "codemirror_mode": {
    "name": "ipython",
    "version": 3
   },
   "file_extension": ".py",
   "mimetype": "text/x-python",
   "name": "python",
   "nbconvert_exporter": "python",
   "pygments_lexer": "ipython3",
   "version": "3.7.6"
  }
 },
 "nbformat": 4,
 "nbformat_minor": 2
}
