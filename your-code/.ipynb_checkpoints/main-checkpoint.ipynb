{
 "cells": [
  {
   "cell_type": "markdown",
   "metadata": {},
   "source": [
    "# Challenge 1\n",
    "\n",
    "A and B are events of a certain probability space $(\\omega, \\sigma, P)$ such that $P(A) = 0.3$, $P(B) = 0.6$ and $P(A \\cap B) = 0.1$.\n",
    "\n",
    "Which are false?\n",
    "* $P(A \\cup B) = 0.6$\n",
    "* $P(A \\cap B^{C}) = 0.2$\n",
    "* $P(A \\cap (B \\cup B^{C})) = 0.4$\n",
    "* $P(A^{C} \\cap B^{C}) = 0.3$\n",
    "* $P((A \\cap B)^{C}) = 0.9$"
   ]
  },
  {
   "cell_type": "code",
   "execution_count": 2,
   "metadata": {},
   "outputs": [],
   "source": [
    "𝑃(𝐴)=0.3\n",
    "𝑃(𝐵)=0.6\n",
    "𝑃(𝐴∩𝐵)=0.1\n",
    "# Omega=Espacio Muestral, es igual a 1\n",
    "# A^C= Aquella probabilidad que no sea A--> 1-A"
   ]
  },
  {
   "cell_type": "raw",
   "metadata": {},
   "source": [
    "𝑃(𝐴∪𝐵)=0.6 -->  # False: P(A)+P(B)-P(A∩B)=0.3+0.6-0.1=0,8\n",
    "𝑃(𝐴∩𝐵𝐶)=0.2 --> # True:P(A)-P(A∩B)=0.3-0.1=0.2\n",
    "𝑃(𝐴∩(𝐵∪𝐵𝐶))=0.4--> #False :P(A)-(B∪BC)=1-0.6-0.1=0.3\n",
    "𝑃(𝐴𝐶∩𝐵𝐶)=0.3--> # False: P(AC∩BC)=1-P(A∪B)=1-0.8=0.2\n",
    "𝑃((𝐴∩𝐵)𝐶)=0.9--> # True: 1-P(A∩B)=1-0.1=0,9"
   ]
  },
  {
   "cell_type": "markdown",
   "metadata": {},
   "source": [
    "# Challenge 2\n",
    "We have an urn with 10 white balls, 12 red balls and 8 black balls. Calculate the probability of:\n",
    "* Taking a white ball.\n",
    "* Taking a white ball after taking a black ball.\n",
    "* Taking a red ball after taking a black and a red ball.\n",
    "* Taking a red ball after taking a black and a red ball with reposition (that means after taking a ball I put it back to the urn).\n"
   ]
  },
  {
   "cell_type": "code",
   "execution_count": 6,
   "metadata": {},
   "outputs": [
    {
     "data": {
      "text/plain": [
       "30"
      ]
     },
     "execution_count": 6,
     "metadata": {},
     "output_type": "execute_result"
    }
   ],
   "source": [
    "wb=10\n",
    "rb=12\n",
    "bb=8\n",
    "omega=wb+rb+bb\n",
    "omega"
   ]
  },
  {
   "cell_type": "code",
   "execution_count": null,
   "metadata": {},
   "outputs": [],
   "source": [
    "Taking a white ball=10/30\n",
    "Taking a white ball after taking a black ball=8/30*10/29=0.091\n",
    "Taking a red ball after taking a black and a red ball=11/28+(((8/30)*(12/29))*((8/29)*(12/30)))=0.086\n",
    "Taking a red ball after taking a black and a red ball with reposition=12/30+(((8/30)*(12/30))*((8/30)*(12/30)))=0.085"
   ]
  },
  {
   "cell_type": "markdown",
   "metadata": {},
   "source": [
    "# Challenge 3\n",
    "\n",
    "You are planning a picnic today, but the morning is cloudy. So you look for some data:\n",
    "* 50% of all rainy days start off cloudy!\n",
    "* But cloudy mornings are common (about 40% of days start cloudy)\n",
    "* And this is usually a dry month (only 3 of 30 days (10%) tend to be rainy)\n",
    "\n",
    "What is the chance of rain during the day?\n",
    "\n"
   ]
  },
  {
   "cell_type": "code",
   "execution_count": 10,
   "metadata": {},
   "outputs": [
    {
     "data": {
      "text/plain": [
       "0.26"
      ]
     },
     "execution_count": 10,
     "metadata": {},
     "output_type": "execute_result"
    }
   ],
   "source": [
    "0.5*0.4+0.1*0.6"
   ]
  },
  {
   "cell_type": "markdown",
   "metadata": {},
   "source": [
    "# Challenge 4\n",
    "\n",
    "By conducting a telephone survey, we asked 1000 people if they thought it is necessary to have more street lighting at night.\n",
    "\n",
    "We have met 480 men, 324 of which answered yes and 156 no, as well as 520 women, 351 of which answered yes and 169 no. We wonder if men and women have a different opinion or if gender is irrelevant to the question.\n",
    "\n",
    "(To see more clearly what they told us, it is best to place the data in a table)\n",
    "\n",
    "\n",
    "Consider the following events:\n",
    "- Wants more light (answered yes)\n",
    "- A man answered\n",
    "\n",
    "\n",
    "We ask ourselves if these events are independent, that is, if the fact of wanting more light depends on whether one is male or female. Are these events independent or not?"
   ]
  },
  {
   "cell_type": "code",
   "execution_count": 11,
   "metadata": {},
   "outputs": [],
   "source": [
    "import pandas as pd"
   ]
  },
  {
   "cell_type": "code",
   "execution_count": 25,
   "metadata": {},
   "outputs": [],
   "source": [
    "n=1000\n",
    "m=480\n",
    "m_y=324\n",
    "m_n=156\n",
    "w=520\n",
    "w_y=351\n",
    "w_n=169"
   ]
  },
  {
   "cell_type": "code",
   "execution_count": 23,
   "metadata": {},
   "outputs": [
    {
     "name": "stdout",
     "output_type": "stream",
     "text": [
      "Man who answered yes: 0.324\n",
      "Man who answered no: 0.156\n"
     ]
    }
   ],
   "source": [
    "#Men\n",
    "m_yp=m_y/n\n",
    "m_np=m_n/n\n",
    "print('Men who answered yes:',m_yp)\n",
    "print('Men who answered no:',m_np)"
   ]
  },
  {
   "cell_type": "code",
   "execution_count": 24,
   "metadata": {},
   "outputs": [
    {
     "name": "stdout",
     "output_type": "stream",
     "text": [
      "Women who answered yes: 0.351\n",
      "Women who answered no: 0.169\n"
     ]
    }
   ],
   "source": [
    "#Women\n",
    "w_yp=w_y/n\n",
    "w_np=w_n/n\n",
    "print('Women who answered yes:',w_yp)\n",
    "print('Women who answered no:',w_np)"
   ]
  },
  {
   "cell_type": "code",
   "execution_count": 37,
   "metadata": {},
   "outputs": [
    {
     "name": "stdout",
     "output_type": "stream",
     "text": [
      "More lights: 0.675\n",
      "Total man: 0.48\n",
      "Men who requested more lights: 0.324\n",
      "Are this facts independent? True\n"
     ]
    }
   ],
   "source": [
    "# More Lights in street\n",
    "more_lights=m_yp+w_yp\n",
    "print('More lights:',more_lights)\n",
    "\n",
    "# men answered\n",
    "total_man=m_yp+m_np\n",
    "print('Total man:',total_man)\n",
    "\n",
    "# men who requested more lights\n",
    "men_lights=more_lights*total_man\n",
    "print('Men who requested more lights:',men_lights)\n",
    "print('Are this facts independent?',m_yp==men_lights)"
   ]
  }
 ],
 "metadata": {
  "kernelspec": {
   "display_name": "Python 3",
   "language": "python",
   "name": "python3"
  },
  "language_info": {
   "codemirror_mode": {
    "name": "ipython",
    "version": 3
   },
   "file_extension": ".py",
   "mimetype": "text/x-python",
   "name": "python",
   "nbconvert_exporter": "python",
   "pygments_lexer": "ipython3",
   "version": "3.8.5"
  },
  "toc": {
   "base_numbering": 1,
   "nav_menu": {},
   "number_sections": true,
   "sideBar": true,
   "skip_h1_title": false,
   "title_cell": "Table of Contents",
   "title_sidebar": "Contents",
   "toc_cell": false,
   "toc_position": {},
   "toc_section_display": true,
   "toc_window_display": false
  },
  "varInspector": {
   "cols": {
    "lenName": 16,
    "lenType": 16,
    "lenVar": 40
   },
   "kernels_config": {
    "python": {
     "delete_cmd_postfix": "",
     "delete_cmd_prefix": "del ",
     "library": "var_list.py",
     "varRefreshCmd": "print(var_dic_list())"
    },
    "r": {
     "delete_cmd_postfix": ") ",
     "delete_cmd_prefix": "rm(",
     "library": "var_list.r",
     "varRefreshCmd": "cat(var_dic_list()) "
    }
   },
   "types_to_exclude": [
    "module",
    "function",
    "builtin_function_or_method",
    "instance",
    "_Feature"
   ],
   "window_display": false
  }
 },
 "nbformat": 4,
 "nbformat_minor": 2
}
