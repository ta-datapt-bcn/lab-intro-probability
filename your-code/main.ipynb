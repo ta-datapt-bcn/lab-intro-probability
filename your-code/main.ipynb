{
 "cells": [
  {
   "cell_type": "markdown",
   "metadata": {
    "heading_collapsed": true
   },
   "source": [
    "# Challenge 1\n",
    "\n",
    "A and B are events of a certain probability space $(\\omega, \\sigma, P)$ such that $P(A) = 0.3$, $P(B) = 0.6$ and $P(A \\cap B) = 0.1$.\n",
    "\n",
    "Which are false?\n",
    "* $P(A \\cup B) = 0.6$ \n",
    "   * it is false, the correct is $\\large P(A \\cup B) = P(A) + P(B) - P(A \\cap B) = 0.8$\n",
    "* $P(A \\cap B^{C}) = 0.2$, \n",
    "   * $\\large P(A \\cap B^{C}) = P(A \\cap (U−B)) = P(A \\cap U) − P(A \\cap B) = P(A) − P(A \\cap B) = 0.2$\n",
    "* $P(A \\cap (B \\cup B^{C})) = 0.4$\n",
    "   * It is false, $\\large P(A \\cap (B \\cup B^{C})) = P(A \\cap U) = P(A) = 0.3$\n",
    "* $P(A^{C} \\cap B^{C}) = 0.3$\n",
    "    * It is false, $\\large P(A^{C} \\cap B^{C}) = 1 - P(A \\cup B) = 1 - 0.8 = 0.2$\n",
    "* $P((A \\cap B)^{C}) = 0.9$\n",
    "    * $\\large P((A \\cap B)^{C}) = 1 - P(A \\cap B) = 0.9 $\n",
    "    "
   ]
  },
  {
   "cell_type": "markdown",
   "metadata": {},
   "source": [
    "# Challenge 2\n",
    "We have an urn with 10 white balls, 12 red balls and 8 black balls. Calculate the probability of:\n",
    "* Taking a white ball.\n",
    "$\\large P(White) = \\frac{10}{30} = \\frac{1}{3}$\n",
    "* Taking a white ball after taking a black ball.\n",
    "$\\large P(Black,White) = \\frac{8}{30} \\cdot \\frac{10}{29} = \\frac{8\\cdot10}{30\\cdot29}$\n",
    "* Taking a red ball after taking a black and a red ball.\n",
    "$\\large P(Red,Black,Red) = \\frac{12}{30} \\cdot \\frac{8}{29} \\cdot \\frac{11}{28} = \\frac{12\\cdot8\\cdot11}{30\\cdot29\\cdot28}$\n",
    "* Taking a red ball after taking a black and a red ball with reposition (that means after taking a ball I put it back to the urn).\n",
    "$\\large P(Red,Black,Red) = \\frac{12}{30} \\cdot \\frac{8}{30} \\cdot \\frac{12}{30} = \\frac{12\\cdot8\\cdot12}{30\\cdot30 \\cdot30}$"
   ]
  },
  {
   "cell_type": "markdown",
   "metadata": {},
   "source": [
    "# Challenge 3\n",
    "\n",
    "You are planning a picnic today, but the morning is cloudy. So you look for some data:\n",
    "* 50% of all rainy days start off cloudy!\n",
    "* But cloudy mornings are common (about 40% of days start cloudy)\n",
    "* And this is usually a dry month (only 3 of 30 days (10%) tend to be rainy)\n",
    "\n",
    "What is the chance of rain during the day?\n",
    "\n",
    "$\\large P(Rain|Cloud) = \\frac{P(Rain) \\cdot P(Cloud|Rain)}{P(Cloud)} = \\frac{0.1 \\cdot 0.5}{0.4} =0.125$\n",
    "\n"
   ]
  },
  {
   "cell_type": "markdown",
   "metadata": {},
   "source": [
    "# Challenge 4\n",
    "\n",
    "By conducting a telephone survey, we asked 1000 people if they thought it is necessary to have more street lighting at night.\n",
    "\n",
    "We have met 480 men, 324 of which answered yes and 156 no, as well as 520 women, 351 of which answered yes and 169 no. We wonder if men and women have a different opinion or if gender is irrelevant to the question.\n",
    "\n",
    "(To see more clearly what they told us, it is best to place the data in a table)\n",
    "\n",
    "\n",
    "Consider the following events:\n",
    "- Wants more light (answered yes)\n",
    "- A man answered\n",
    "\n",
    "\n",
    "We ask ourselves if these events are independent, that is, if the fact of wanting more light depends on whether one is male or female. Are these events independent or not?"
   ]
  },
  {
   "cell_type": "code",
   "execution_count": 3,
   "metadata": {
    "ExecuteTime": {
     "end_time": "2020-03-08T10:48:58.148812Z",
     "start_time": "2020-03-08T10:48:51.976668Z"
    }
   },
   "outputs": [],
   "source": [
    "import pandas as pd\n",
    "import numpy as np\n"
   ]
  },
  {
   "cell_type": "code",
   "execution_count": 7,
   "metadata": {
    "ExecuteTime": {
     "end_time": "2020-03-08T10:51:04.482327Z",
     "start_time": "2020-03-08T10:51:04.469363Z"
    }
   },
   "outputs": [
    {
     "data": {
      "text/html": [
       "<div>\n",
       "<style scoped>\n",
       "    .dataframe tbody tr th:only-of-type {\n",
       "        vertical-align: middle;\n",
       "    }\n",
       "\n",
       "    .dataframe tbody tr th {\n",
       "        vertical-align: top;\n",
       "    }\n",
       "\n",
       "    .dataframe thead th {\n",
       "        text-align: right;\n",
       "    }\n",
       "</style>\n",
       "<table border=\"1\" class=\"dataframe\">\n",
       "  <thead>\n",
       "    <tr style=\"text-align: right;\">\n",
       "      <th></th>\n",
       "      <th>Yes</th>\n",
       "      <th>No</th>\n",
       "      <th>Total</th>\n",
       "    </tr>\n",
       "  </thead>\n",
       "  <tbody>\n",
       "    <tr>\n",
       "      <td>Men</td>\n",
       "      <td>324</td>\n",
       "      <td>156</td>\n",
       "      <td>480</td>\n",
       "    </tr>\n",
       "    <tr>\n",
       "      <td>Women</td>\n",
       "      <td>351</td>\n",
       "      <td>169</td>\n",
       "      <td>520</td>\n",
       "    </tr>\n",
       "    <tr>\n",
       "      <td>Total</td>\n",
       "      <td>675</td>\n",
       "      <td>325</td>\n",
       "      <td>1000</td>\n",
       "    </tr>\n",
       "  </tbody>\n",
       "</table>\n",
       "</div>"
      ],
      "text/plain": [
       "       Yes   No  Total\n",
       "Men    324  156    480\n",
       "Women  351  169    520\n",
       "Total  675  325   1000"
      ]
     },
     "execution_count": 7,
     "metadata": {},
     "output_type": "execute_result"
    }
   ],
   "source": [
    "survey = pd.DataFrame(np.array([[324,156,480],[351,169,520],[675,325,1000]]),\n",
    "            columns = ['Yes','No','Total'],\n",
    "            index = ['Men','Women','Total'])\n",
    "survey"
   ]
  },
  {
   "cell_type": "code",
   "execution_count": 9,
   "metadata": {
    "ExecuteTime": {
     "end_time": "2020-03-08T10:51:44.246439Z",
     "start_time": "2020-03-08T10:51:44.230480Z"
    }
   },
   "outputs": [
    {
     "data": {
      "text/html": [
       "<div>\n",
       "<style scoped>\n",
       "    .dataframe tbody tr th:only-of-type {\n",
       "        vertical-align: middle;\n",
       "    }\n",
       "\n",
       "    .dataframe tbody tr th {\n",
       "        vertical-align: top;\n",
       "    }\n",
       "\n",
       "    .dataframe thead th {\n",
       "        text-align: right;\n",
       "    }\n",
       "</style>\n",
       "<table border=\"1\" class=\"dataframe\">\n",
       "  <thead>\n",
       "    <tr style=\"text-align: right;\">\n",
       "      <th></th>\n",
       "      <th>Yes</th>\n",
       "      <th>No</th>\n",
       "      <th>Total</th>\n",
       "    </tr>\n",
       "  </thead>\n",
       "  <tbody>\n",
       "    <tr>\n",
       "      <td>Men</td>\n",
       "      <td>0.324</td>\n",
       "      <td>0.156</td>\n",
       "      <td>0.48</td>\n",
       "    </tr>\n",
       "    <tr>\n",
       "      <td>Women</td>\n",
       "      <td>0.351</td>\n",
       "      <td>0.169</td>\n",
       "      <td>0.52</td>\n",
       "    </tr>\n",
       "    <tr>\n",
       "      <td>Total</td>\n",
       "      <td>0.675</td>\n",
       "      <td>0.325</td>\n",
       "      <td>1.00</td>\n",
       "    </tr>\n",
       "  </tbody>\n",
       "</table>\n",
       "</div>"
      ],
      "text/plain": [
       "         Yes     No  Total\n",
       "Men    0.324  0.156   0.48\n",
       "Women  0.351  0.169   0.52\n",
       "Total  0.675  0.325   1.00"
      ]
     },
     "execution_count": 9,
     "metadata": {},
     "output_type": "execute_result"
    }
   ],
   "source": [
    "survey_probability = survey/1000\n",
    "survey_probability"
   ]
  },
  {
   "cell_type": "markdown",
   "metadata": {
    "ExecuteTime": {
     "end_time": "2020-03-08T10:57:27.989288Z",
     "start_time": "2020-03-08T10:57:27.981309Z"
    }
   },
   "source": [
    "$\\large P(Yes) = 0.675$\n",
    "\n",
    "$\\large P(Men|Yes) =  \\frac{P(Yes \\cap Men)}{P(Men)} = 0.675$\n",
    "\n",
    "$\\large P(Women|Yes) =  \\frac{P(Yes \\cap Women)}{P(Women)} = 0.675$\n",
    "\n",
    "#### We have that are equal, so the two events are independient."
   ]
  }
 ],
 "metadata": {
  "kernelspec": {
   "display_name": "Python 3",
   "language": "python",
   "name": "python3"
  },
  "language_info": {
   "codemirror_mode": {
    "name": "ipython",
    "version": 3
   },
   "file_extension": ".py",
   "mimetype": "text/x-python",
   "name": "python",
   "nbconvert_exporter": "python",
   "pygments_lexer": "ipython3",
   "version": "3.7.4"
  },
  "varInspector": {
   "cols": {
    "lenName": 16,
    "lenType": 16,
    "lenVar": 40
   },
   "kernels_config": {
    "python": {
     "delete_cmd_postfix": "",
     "delete_cmd_prefix": "del ",
     "library": "var_list.py",
     "varRefreshCmd": "print(var_dic_list())"
    },
    "r": {
     "delete_cmd_postfix": ") ",
     "delete_cmd_prefix": "rm(",
     "library": "var_list.r",
     "varRefreshCmd": "cat(var_dic_list()) "
    }
   },
   "types_to_exclude": [
    "module",
    "function",
    "builtin_function_or_method",
    "instance",
    "_Feature"
   ],
   "window_display": false
  }
 },
 "nbformat": 4,
 "nbformat_minor": 2
}
