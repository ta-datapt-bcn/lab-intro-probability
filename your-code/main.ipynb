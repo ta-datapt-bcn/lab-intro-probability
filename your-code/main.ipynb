{
 "cells": [
  {
   "cell_type": "markdown",
   "metadata": {},
   "source": [
    "# Challenge 1\n",
    "\n",
    "A and B are events of a certain probability space $(\\omega, \\sigma, P)$ such that $P(A) = 0.3$, $P(B) = 0.6$ and $P(A \\cap B) = 0.1$.\n",
    "\n",
    "Which are false?\n",
    "* $P(A \\cup B) = 0.6$\n",
    "* $P(A \\cap B^{C}) = 0.2$\n",
    "* $P(A \\cap (B \\cup B^{C})) = 0.4$\n",
    "* $P(A^{C} \\cap B^{C}) = 0.3$\n",
    "* $P((A \\cap B)^{C}) = 0.9$"
   ]
  },
  {
   "cell_type": "code",
   "execution_count": 6,
   "metadata": {
    "ExecuteTime": {
     "end_time": "2020-03-19T13:05:02.471920Z",
     "start_time": "2020-03-19T13:05:02.467425Z"
    }
   },
   "outputs": [],
   "source": [
    "# P(A ∪ B) = P(A) + P(B) − P(A ∩ B)\n",
    "# P(A ∪ B) = 0.3 + 0.6 - 0.1 = 0.8\n",
    "\n",
    "# P(A ∪ B) = 0.6 FALSE"
   ]
  },
  {
   "cell_type": "code",
   "execution_count": 7,
   "metadata": {
    "ExecuteTime": {
     "end_time": "2020-03-19T13:05:02.989959Z",
     "start_time": "2020-03-19T13:05:02.987235Z"
    }
   },
   "outputs": [],
   "source": [
    "# 𝑃(𝐴 ∩ 𝐵^C) = P(A) − P(A ∩ B)\n",
    "# 𝑃(𝐴 ∩ 𝐵^C) = 0.3 - 0.1 = 0.2\n",
    "\n",
    "# 𝑃(𝐴 ∩ 𝐵^C) = 0.2 TRUE"
   ]
  },
  {
   "cell_type": "code",
   "execution_count": 8,
   "metadata": {
    "ExecuteTime": {
     "end_time": "2020-03-19T13:05:03.425284Z",
     "start_time": "2020-03-19T13:05:03.421609Z"
    }
   },
   "outputs": [],
   "source": [
    "# 𝑃(𝐴 ∩ (𝐵 ∪ 𝐵^𝐶) ) = 𝑃(𝐴 ∩ 𝐵) + P(A ∩ 𝐵^𝐶) )\n",
    "# 𝑃(𝐴 ∩ (𝐵 ∪ 𝐵^𝐶) ) = 0.1 + 0.2 = 0.3\n",
    "\n",
    "# 𝑃(𝐴 ∩ (𝐵 ∪ 𝐵^𝐶) ) = 0.3 TRUE"
   ]
  },
  {
   "cell_type": "code",
   "execution_count": 9,
   "metadata": {
    "ExecuteTime": {
     "end_time": "2020-03-19T13:05:03.902245Z",
     "start_time": "2020-03-19T13:05:03.898644Z"
    }
   },
   "outputs": [],
   "source": [
    "# 𝑃(𝐴^𝐶 ∩ 𝐵^𝐶) = P(A ∪ B)^𝐶\n",
    "# 𝑃(𝐴^𝐶 ∩ 𝐵^𝐶) = 1 - P(A ∪ B)\n",
    "# 𝑃(𝐴^𝐶 ∩ 𝐵^𝐶) = 1 - 0.6 = 0.4\n",
    "\n",
    "# 𝑃(𝐴^𝐶 ∩ 𝐵^𝐶) = 0.3 FALSE"
   ]
  },
  {
   "cell_type": "code",
   "execution_count": 10,
   "metadata": {
    "ExecuteTime": {
     "end_time": "2020-03-19T13:05:04.357513Z",
     "start_time": "2020-03-19T13:05:04.354564Z"
    }
   },
   "outputs": [],
   "source": [
    "# 𝑃((𝐴∩𝐵)^𝐶) = 0.9 TRUE\n",
    "\n",
    "# P(𝐴 ∩ 𝐵) = 0.1 Por tanto el complementario es 1-𝑃(𝐴∩𝐵) = 1-0.1 = 0.9"
   ]
  },
  {
   "cell_type": "markdown",
   "metadata": {},
   "source": [
    "# Challenge 2\n",
    "We have an urn with 10 white balls, 12 red balls and 8 black balls. Calculate the probability of:\n",
    "* Taking a white ball.\n",
    "* Taking a white ball after taking a black ball.\n",
    "* Taking a red ball after taking a black and a red ball.\n",
    "* Taking a red ball after taking a black and a red ball with reposition (that means after taking a ball I put it back to the urn).\n"
   ]
  },
  {
   "cell_type": "code",
   "execution_count": 11,
   "metadata": {
    "ExecuteTime": {
     "end_time": "2020-03-19T13:05:05.255522Z",
     "start_time": "2020-03-19T13:05:05.251282Z"
    }
   },
   "outputs": [],
   "source": [
    "# Probability white ball (wb).\n",
    "\n",
    "# p(wb) = 10/30 = 1/3"
   ]
  },
  {
   "cell_type": "code",
   "execution_count": 12,
   "metadata": {
    "ExecuteTime": {
     "end_time": "2020-03-19T13:05:11.915865Z",
     "start_time": "2020-03-19T13:05:11.911367Z"
    }
   },
   "outputs": [],
   "source": [
    "# Probability white ball (wb) after taking a black ball (bb).\n",
    "\n",
    "# p(wb|bb) = 10/29"
   ]
  },
  {
   "cell_type": "code",
   "execution_count": 13,
   "metadata": {
    "ExecuteTime": {
     "end_time": "2020-03-19T13:05:12.534703Z",
     "start_time": "2020-03-19T13:05:12.530601Z"
    }
   },
   "outputs": [],
   "source": [
    "# Probability red ball (rb) after taking a black ball (rb) and a red ball (rb).\n",
    "\n",
    "# P(rb|(rb|rb)) = 11/28"
   ]
  },
  {
   "cell_type": "code",
   "execution_count": 14,
   "metadata": {
    "ExecuteTime": {
     "end_time": "2020-03-19T13:05:13.302607Z",
     "start_time": "2020-03-19T13:05:13.298460Z"
    }
   },
   "outputs": [],
   "source": [
    "# Probability red ball (rb) after taking black ball (bb) and red ball (rb) with reposition.\n",
    "\n",
    "# Al haber reposición, considero que son sucesos independientes - p(A|B) = p(A)\n",
    "\n",
    "# p(rb) = 12/30"
   ]
  },
  {
   "cell_type": "markdown",
   "metadata": {},
   "source": [
    "# Challenge 3\n",
    "\n",
    "You are planning a picnic today, but the morning is cloudy. So you look for some data:\n",
    "* 50% of all rainy days start off cloudy!\n",
    "* But cloudy mornings are common (about 40% of days start cloudy)\n",
    "* And this is usually a dry month (only 3 of 30 days (10%) tend to be rainy)\n",
    "\n",
    "What is the chance of rain during the day?\n",
    "\n"
   ]
  },
  {
   "cell_type": "code",
   "execution_count": 15,
   "metadata": {
    "ExecuteTime": {
     "end_time": "2020-03-19T13:05:15.292127Z",
     "start_time": "2020-03-19T13:05:15.282550Z"
    }
   },
   "outputs": [],
   "source": [
    "# p(cloudy|rain) = 50% = 0.5\n",
    "# p(cloudy) = 40% = 0.4\n",
    "# p(rain) = 10% = 0.1\n",
    "\n",
    "\n",
    "# p(rain|cloudy) = p(rain ∩ cloudy) / p(cloudy)\n",
    "# p(rain|cloudy) = ( p(rain) x p(cloudy|rain) ) / p(cloudy)\n",
    "# p(rain|cloudy) = (0.1 x 0.5) / 0.4\n",
    "\n",
    "# p(rain|cloudy) = (0.1 * 0.5) / 0.4 = 0.125 = 12.5%"
   ]
  },
  {
   "cell_type": "markdown",
   "metadata": {},
   "source": [
    "# Challenge 4\n",
    "\n",
    "By conducting a telephone survey, we asked 1000 people if they thought it is necessary to have more street lighting at night.\n",
    "\n",
    "We have met 480 men, 324 of which answered yes and 156 no, as well as 520 women, 351 of which answered yes and 169 no. We wonder if men and women have a different opinion or if gender is irrelevant to the question.\n",
    "\n",
    "(To see more clearly what they told us, it is best to place the data in a table)\n",
    "\n",
    "\n",
    "Consider the following events:\n",
    "- Wants more light (answered yes)\n",
    "- A man answered\n",
    "\n",
    "\n",
    "We ask ourselves if these events are independent, that is, if the fact of wanting more light depends on whether one is male or female. Are these events independent or not?"
   ]
  },
  {
   "cell_type": "code",
   "execution_count": 28,
   "metadata": {
    "ExecuteTime": {
     "end_time": "2020-03-19T13:16:22.097378Z",
     "start_time": "2020-03-19T13:16:22.086117Z"
    }
   },
   "outputs": [
    {
     "data": {
      "text/html": [
       "<div>\n",
       "<style scoped>\n",
       "    .dataframe tbody tr th:only-of-type {\n",
       "        vertical-align: middle;\n",
       "    }\n",
       "\n",
       "    .dataframe tbody tr th {\n",
       "        vertical-align: top;\n",
       "    }\n",
       "\n",
       "    .dataframe thead th {\n",
       "        text-align: right;\n",
       "    }\n",
       "</style>\n",
       "<table border=\"1\" class=\"dataframe\">\n",
       "  <thead>\n",
       "    <tr style=\"text-align: right;\">\n",
       "      <th></th>\n",
       "      <th>Sex</th>\n",
       "      <th>Yes</th>\n",
       "      <th>No</th>\n",
       "    </tr>\n",
       "  </thead>\n",
       "  <tbody>\n",
       "    <tr>\n",
       "      <th>0</th>\n",
       "      <td>Men</td>\n",
       "      <td>324</td>\n",
       "      <td>156</td>\n",
       "    </tr>\n",
       "    <tr>\n",
       "      <th>1</th>\n",
       "      <td>Women</td>\n",
       "      <td>351</td>\n",
       "      <td>169</td>\n",
       "    </tr>\n",
       "    <tr>\n",
       "      <th>2</th>\n",
       "      <td>Total</td>\n",
       "      <td>675</td>\n",
       "      <td>325</td>\n",
       "    </tr>\n",
       "  </tbody>\n",
       "</table>\n",
       "</div>"
      ],
      "text/plain": [
       "     Sex  Yes   No\n",
       "0    Men  324  156\n",
       "1  Women  351  169\n",
       "2  Total  675  325"
      ]
     },
     "execution_count": 28,
     "metadata": {},
     "output_type": "execute_result"
    }
   ],
   "source": [
    "import pandas as pd\n",
    "\n",
    "survey = pd.DataFrame({'Sex': ['Men','Women','Total'], 'Yes': [324,351,675], 'No': [156,169,325]})\n",
    "survey"
   ]
  },
  {
   "cell_type": "code",
   "execution_count": 29,
   "metadata": {
    "ExecuteTime": {
     "end_time": "2020-03-19T13:16:24.106560Z",
     "start_time": "2020-03-19T13:16:24.093580Z"
    }
   },
   "outputs": [
    {
     "data": {
      "text/html": [
       "<div>\n",
       "<style scoped>\n",
       "    .dataframe tbody tr th:only-of-type {\n",
       "        vertical-align: middle;\n",
       "    }\n",
       "\n",
       "    .dataframe tbody tr th {\n",
       "        vertical-align: top;\n",
       "    }\n",
       "\n",
       "    .dataframe thead th {\n",
       "        text-align: right;\n",
       "    }\n",
       "</style>\n",
       "<table border=\"1\" class=\"dataframe\">\n",
       "  <thead>\n",
       "    <tr style=\"text-align: right;\">\n",
       "      <th></th>\n",
       "      <th>Sex</th>\n",
       "      <th>Yes</th>\n",
       "      <th>No</th>\n",
       "      <th>Total</th>\n",
       "      <th>Prob_Yes</th>\n",
       "    </tr>\n",
       "  </thead>\n",
       "  <tbody>\n",
       "    <tr>\n",
       "      <th>0</th>\n",
       "      <td>Men</td>\n",
       "      <td>324</td>\n",
       "      <td>156</td>\n",
       "      <td>480</td>\n",
       "      <td>0.675</td>\n",
       "    </tr>\n",
       "    <tr>\n",
       "      <th>1</th>\n",
       "      <td>Women</td>\n",
       "      <td>351</td>\n",
       "      <td>169</td>\n",
       "      <td>520</td>\n",
       "      <td>0.675</td>\n",
       "    </tr>\n",
       "    <tr>\n",
       "      <th>2</th>\n",
       "      <td>Total</td>\n",
       "      <td>675</td>\n",
       "      <td>325</td>\n",
       "      <td>1000</td>\n",
       "      <td>0.675</td>\n",
       "    </tr>\n",
       "  </tbody>\n",
       "</table>\n",
       "</div>"
      ],
      "text/plain": [
       "     Sex  Yes   No  Total  Prob_Yes\n",
       "0    Men  324  156    480     0.675\n",
       "1  Women  351  169    520     0.675\n",
       "2  Total  675  325   1000     0.675"
      ]
     },
     "execution_count": 29,
     "metadata": {},
     "output_type": "execute_result"
    }
   ],
   "source": [
    "# Creamos una columna con los totales para calcular los porcentajes.\n",
    "\n",
    "survey['Total'] = survey['Yes'] + survey['No']\n",
    "survey['Prob_Yes'] = survey['Yes'] / survey['Total']\n",
    "survey"
   ]
  },
  {
   "cell_type": "code",
   "execution_count": null,
   "metadata": {},
   "outputs": [],
   "source": [
    "# La probabilidad de responder YES es la misma (0.675) en hombres que en mujeres. \n",
    "# Es la misma probabilidad que para el total de los encuestados.\n",
    "# Por tanto son eventos independientes. P(yes|men) = P(yes) = 0.675"
   ]
  }
 ],
 "metadata": {
  "kernelspec": {
   "display_name": "Python 3",
   "language": "python",
   "name": "python3"
  },
  "language_info": {
   "codemirror_mode": {
    "name": "ipython",
    "version": 3
   },
   "file_extension": ".py",
   "mimetype": "text/x-python",
   "name": "python",
   "nbconvert_exporter": "python",
   "pygments_lexer": "ipython3",
   "version": "3.8.0"
  },
  "toc": {
   "base_numbering": 1,
   "nav_menu": {},
   "number_sections": true,
   "sideBar": true,
   "skip_h1_title": false,
   "title_cell": "Table of Contents",
   "title_sidebar": "Contents",
   "toc_cell": false,
   "toc_position": {},
   "toc_section_display": true,
   "toc_window_display": false
  },
  "varInspector": {
   "cols": {
    "lenName": 16,
    "lenType": 16,
    "lenVar": 40
   },
   "kernels_config": {
    "python": {
     "delete_cmd_postfix": "",
     "delete_cmd_prefix": "del ",
     "library": "var_list.py",
     "varRefreshCmd": "print(var_dic_list())"
    },
    "r": {
     "delete_cmd_postfix": ") ",
     "delete_cmd_prefix": "rm(",
     "library": "var_list.r",
     "varRefreshCmd": "cat(var_dic_list()) "
    }
   },
   "types_to_exclude": [
    "module",
    "function",
    "builtin_function_or_method",
    "instance",
    "_Feature"
   ],
   "window_display": false
  }
 },
 "nbformat": 4,
 "nbformat_minor": 2
}
