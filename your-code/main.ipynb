{
 "cells": [
  {
   "cell_type": "markdown",
   "metadata": {},
   "source": [
    "# Challenge 1\n",
    "\n",
    "A and B are events of a certain probability space $(\\omega, \\sigma, P)$ such that $P(A) = 0.3$, $P(B) = 0.6$ and $P(A \\cap B) = 0.1$.\n",
    "\n",
    "Which are false?\n",
    "* 1.1 $P(A \\cup B) = 0.6$\n",
    "* 1.2 $P(A \\cap B^{C}) = 0.2$\n",
    "* 1.3 $P(A \\cap (B \\cup B^{C})) = 0.4$\n",
    "* 1.4 $P(A^{C} \\cap B^{C}) = 0.3$\n",
    "* 1.5 $P((A \\cap B)^{C}) = 0.9$"
   ]
  },
  {
   "cell_type": "markdown",
   "metadata": {},
   "source": [
    "## Answer 1:\n",
    "\n",
    "####  1.1 False: \n",
    "𝑃(𝐴∪𝐵)= 𝑃(𝐴) + 𝑃(𝐵) + 𝑃(𝐴∩𝐵) = 0.3 + 0.6 - 0.1 = 0.8\n",
    "\n",
    "#### 1.2 True:\n",
    "\n",
    "𝑃(𝐴∩𝐵^𝐶) = 𝑃(A) - 𝑃(𝐴∩𝐵) = 0.3 - 0.1 = 0.2\n",
    "\n",
    "#### 1.3 False:\n",
    "\n",
    "𝑃(𝐴∩(𝐵∪𝐵𝐶)) = P(A) = 0.3\n",
    "\n",
    "#### 1.4 False:\n",
    "\n",
    "𝑃(𝐴𝐶∩𝐵𝐶)= 1 - 𝑃(𝐴∪𝐵) = 1 - 0.6 = 0.4\n",
    "\n",
    "#### 1.5 True:\n",
    "\n",
    "𝑃((𝐴∩𝐵)𝐶)= 𝑃((𝐴^𝐶∩𝐵^𝐶) = 1- 𝑃(𝐴∩𝐵) = 1 - 0.1 = 0.9"
   ]
  },
  {
   "cell_type": "code",
   "execution_count": null,
   "metadata": {},
   "outputs": [],
   "source": []
  },
  {
   "cell_type": "markdown",
   "metadata": {},
   "source": [
    "# Challenge 2\n",
    "We have an urn with 10 white balls, 12 red balls and 8 black balls. Calculate the probability of:\n",
    "* 1.1: Taking a white ball.\n",
    "* 1.2: Taking a white ball after taking a black ball.\n",
    "* 1.3: Taking a red ball after taking a black and a red ball.\n",
    "* 1.4: Taking a red ball after taking a black and a red ball with reposition (that means after taking a ball I put it back to the urn).\n"
   ]
  },
  {
   "cell_type": "markdown",
   "metadata": {},
   "source": [
    "## Answer 2:\n",
    "\n",
    "\n",
    "#### 1.1 Taking a white ball.\n",
    "\n",
    "P(w) = 10/30 = 1/3\n",
    "\n",
    "#### 1.2: Taking a white ball after taking a black ball.\n",
    "\n",
    "P(W|B) = 8/30 * 10/29\n",
    "\n",
    "#### 1.3: Taking a red ball after taking a black and a red ball.\n",
    "\n",
    "P(R|B|R) = 12/30 * 8/29 * 11/28\n",
    "\n",
    "#### 1.4: Taking a red ball after taking a black and a red ball with reposition (that means after taking a ball I put it back to the urn).\n",
    "\n",
    "Prepo(R|B|R) = 12/30 * 8/30 * 12/30"
   ]
  },
  {
   "cell_type": "markdown",
   "metadata": {},
   "source": []
  },
  {
   "cell_type": "markdown",
   "metadata": {},
   "source": [
    "# Challenge 3\n",
    "\n",
    "You are planning a picnic today, but the morning is cloudy. So you look for some data:\n",
    "* 50% of all rainy days start off cloudy!\n",
    "* But cloudy mornings are common (about 40% of days start cloudy)\n",
    "* And this is usually a dry month (only 3 of 30 days (10%) tend to be rainy)\n",
    "\n",
    "What is the chance of rain during the day?\n",
    "\n"
   ]
  },
  {
   "cell_type": "markdown",
   "metadata": {},
   "source": [
    "### Answer 3:\n",
    "\n",
    "#### P(A | B) = P(B | A) ⋅ P(A) / P(B)\n",
    "\n",
    "P(Rain | Cloudy) = P(Cloudy | Rain) x P(Rain) / P(Cloudy) = 0.5 * 0.1 / 0.4  = 0.125"
   ]
  },
  {
   "cell_type": "markdown",
   "metadata": {},
   "source": [
    "# Challenge 4\n",
    "\n",
    "By conducting a telephone survey, we asked 1000 people if they thought it is necessary to have more street lighting at night.\n",
    "\n",
    "We have met 480 men, 324 of which answered yes and 156 no, as well as 520 women, 351 of which answered yes and 169 no. We wonder if men and women have a different opinion or if gender is irrelevant to the question.\n",
    "\n",
    "(To see more clearly what they told us, it is best to place the data in a table)\n",
    "\n",
    "\n",
    "Consider the following events:\n",
    "- Wants more light (answered yes)\n",
    "- A man answered\n",
    "\n",
    "\n",
    "We ask ourselves if these events are independent, that is, if the fact of wanting more light depends on whether one is male or female. Are these events independent or not?"
   ]
  },
  {
   "cell_type": "markdown",
   "metadata": {},
   "source": [
    "## Answer 4:\n",
    "\n",
    "- P(Man) = 0.480\n",
    "- P(Man|Yes) = 0.324/0.480 = `0.675`\n",
    "- P(Man|No) = 0.156/0.480\n",
    "\n",
    "\n",
    "- P(Woman) = 0.520\n",
    "- P(Woman|Yes) = 0.351/0.520 = `0.675`\n",
    "- P(Woman|No) = 0.169/0.520\n"
   ]
  },
  {
   "cell_type": "markdown",
   "metadata": {},
   "source": [
    "Since P(Man|Yes) == P(Woman|Yes), the events are independent"
   ]
  },
  {
   "cell_type": "code",
   "execution_count": null,
   "metadata": {},
   "outputs": [],
   "source": []
  }
 ],
 "metadata": {
  "kernelspec": {
   "display_name": "Python 3",
   "language": "python",
   "name": "python3"
  },
  "language_info": {
   "codemirror_mode": {
    "name": "ipython",
    "version": 3
   },
   "file_extension": ".py",
   "mimetype": "text/x-python",
   "name": "python",
   "nbconvert_exporter": "python",
   "pygments_lexer": "ipython3",
   "version": "3.7.6"
  }
 },
 "nbformat": 4,
 "nbformat_minor": 2
}
