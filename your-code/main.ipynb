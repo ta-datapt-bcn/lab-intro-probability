{
 "cells": [
  {
   "cell_type": "markdown",
   "metadata": {},
   "source": [
    "# Challenge 1\n",
    "\n",
    "A and B are events of a certain probability space $(\\omega, \\sigma, P)$ such that $P(A) = 0.3$, $P(B) = 0.6$ and $P(A \\cap B) = 0.1$.\n",
    "\n",
    "Which are false?\n",
    "* $P(A \\cup B) = 0.6$ -- False\n",
    "\n",
    "P (A U B) = P(A) + P(B) - P(A ∩ B) = 0,3 + 0,6 - 0,1 = 0,8\n",
    "\n",
    "* $P(A \\cap B^{C}) = 0.2$ -- True\n",
    "\n",
    "P (A ∩ Bc) = P(A) - P(A ∩ B) = 0,3 - 0,1 = 0,2\n",
    "\n",
    "* $P(A \\cap (B \\cup B^{C})) = 0.4$ -- False \n",
    "\n",
    "P (A ∩ (B U Bc)) = P(A) = 0,3\n",
    "\n",
    "* $P(A^{C} \\cap B^{C}) = 0.3$ -- False\n",
    "\n",
    "P (Ac ∩ Bc) = 1 - P(A U B) = 1 - 0,8 = 0,2\n",
    "\n",
    "* $P((A \\cap B)^{C}) = 0.9$ -- True\n",
    "\n",
    "P((A ∩ B)c) = 1 - P (A ∩ B) = 0,9"
   ]
  },
  {
   "cell_type": "markdown",
   "metadata": {},
   "source": [
    "# Challenge 2\n",
    "We have an urn with 10 white balls, 12 red balls and 8 black balls. Calculate the probability of:\n",
    "\n",
    "* Taking a white ball:\n",
    "\n",
    "1st ball -- > Probabilty = Number of white balls / Total number of balls = 10/30 = 33,33%\n",
    "\n",
    "* Taking a white ball after taking a black ball\n",
    "\n",
    "1st ball --> P(White) = (10/29)\n",
    "2nd ball --> P(Black|White) = (8/30)\n",
    "\n",
    "Joint Probability 1st and 2nd ball= 9,19%\n",
    "\n",
    "* Taking a red ball after taking a black and a red ball\n",
    "\n",
    "1st ball --> P(Black) = (8/30)\n",
    "2nd ball --> P(Red|Black) = (12/29)\n",
    "3rd ball --> P(Red|Red&Black) = (11/28)\n",
    "\n",
    "Joint Probability 1st, 2nd and 3rd ball = 4,33%\n",
    "\n",
    "* Taking a red ball after taking a black and a red ball with reposition (that means after taking a ball I put it back to the urn).\n",
    "\n",
    "1st ball --> P(Black) = (8/30)\n",
    "2nd ball --> P(Red|Black) = (12/30)\n",
    "3rd ball --> P(Red|Red&Black) = (12/30)\n",
    "\n",
    "Joint Probability 1st, 2nd and 3rd ball = 4,26%\n"
   ]
  },
  {
   "cell_type": "markdown",
   "metadata": {},
   "source": [
    "# Challenge 3\n",
    "\n",
    "You are planning a picnic today, but the morning is cloudy. So you look for some data:\n",
    "* 50% of all rainy days start off cloudy!\n",
    "* But cloudy mornings are common (about 40% of days start cloudy)\n",
    "* And this is usually a dry month (only 3 of 30 days (10%) tend to be rainy)\n",
    "\n",
    "What is the chance of rain during the day?\n",
    "\n"
   ]
  },
  {
   "source": [
    "P (Rain|Cloudy morning) = 50%\n",
    "\n",
    "P (Cloudy morning) = 40%\n",
    "\n",
    "P (Rain) = 10%\n",
    "\n",
    "\n",
    "P (Rain|Cloudy morning) = P (Cloudy morning|Rain) * P (Rain) / P (Cloudy morning) = 50% * 10% / 40% = 12,5%"
   ],
   "cell_type": "markdown",
   "metadata": {}
  },
  {
   "cell_type": "markdown",
   "metadata": {},
   "source": [
    "# Challenge 4\n",
    "\n",
    "By conducting a telephone survey, we asked 1000 people if they thought it is necessary to have more street lighting at night.\n",
    "\n",
    "We have met 480 men, 324 of which answered yes and 156 no, as well as 520 women, 351 of which answered yes and 169 no. We wonder if men and women have a different opinion or if gender is irrelevant to the question.\n",
    "\n",
    "(To see more clearly what they told us, it is best to place the data in a table)\n",
    "\n",
    "\n",
    "Consider the following events:\n",
    "- Wants more light (answered yes)\n",
    "- A man answered\n",
    "\n",
    "\n",
    "We ask ourselves if these events are independent, that is, if the fact of wanting more light depends on whether one is male or female. Are these events independent or not?"
   ]
  },
  {
   "cell_type": "code",
   "execution_count": 1,
   "metadata": {},
   "outputs": [],
   "source": [
    "import pandas as pd"
   ]
  },
  {
   "cell_type": "code",
   "execution_count": 2,
   "metadata": {},
   "outputs": [],
   "source": [
    "men = [324, 156]\n",
    "women = [351, 169]"
   ]
  },
  {
   "cell_type": "code",
   "execution_count": 16,
   "metadata": {
    "tags": []
   },
   "outputs": [
    {
     "output_type": "execute_result",
     "data": {
      "text/plain": [
       "       Yes   No\n",
       "Men    324  156\n",
       "Women  351  169"
      ],
      "text/html": "<div>\n<style scoped>\n    .dataframe tbody tr th:only-of-type {\n        vertical-align: middle;\n    }\n\n    .dataframe tbody tr th {\n        vertical-align: top;\n    }\n\n    .dataframe thead th {\n        text-align: right;\n    }\n</style>\n<table border=\"1\" class=\"dataframe\">\n  <thead>\n    <tr style=\"text-align: right;\">\n      <th></th>\n      <th>Yes</th>\n      <th>No</th>\n    </tr>\n  </thead>\n  <tbody>\n    <tr>\n      <th>Men</th>\n      <td>324</td>\n      <td>156</td>\n    </tr>\n    <tr>\n      <th>Women</th>\n      <td>351</td>\n      <td>169</td>\n    </tr>\n  </tbody>\n</table>\n</div>"
     },
     "metadata": {},
     "execution_count": 16
    }
   ],
   "source": [
    "df = pd.DataFrame([men, women], columns=['Yes', 'No'], index= ['Men','Women'])\n",
    "df"
   ]
  },
  {
   "cell_type": "code",
   "execution_count": 27,
   "metadata": {},
   "outputs": [
    {
     "output_type": "execute_result",
     "data": {
      "text/plain": [
       "0.675"
      ]
     },
     "metadata": {},
     "execution_count": 27
    }
   ],
   "source": [
    "# Total Yes = 67,5%\n",
    "\n",
    "df.Yes.sum() / (df.Yes.sum() + df.No.sum())"
   ]
  },
  {
   "cell_type": "code",
   "execution_count": 21,
   "metadata": {},
   "outputs": [
    {
     "output_type": "execute_result",
     "data": {
      "text/plain": [
       "0.675"
      ]
     },
     "metadata": {},
     "execution_count": 21
    }
   ],
   "source": [
    "# Men Yes = 67,5%\n",
    "\n",
    "df.iloc[0,0].sum() / df.iloc[0,:].sum()"
   ]
  },
  {
   "cell_type": "code",
   "execution_count": 29,
   "metadata": {},
   "outputs": [],
   "source": [
    "# Given the analysis from the data we have obteined from the survey, wanting more light does not depen on the gender as both genders have same acceptance rate"
   ]
  }
 ],
 "metadata": {
  "kernelspec": {
   "name": "python383jvsc74a57bd05f23c331dcc0e959a18d97d72b32723b8e8fefc4a029dc171226f15b89161c30",
   "display_name": "Python 3.8.3 32-bit ('base': conda)"
  },
  "language_info": {
   "codemirror_mode": {
    "name": "ipython",
    "version": 3
   },
   "file_extension": ".py",
   "mimetype": "text/x-python",
   "name": "python",
   "nbconvert_exporter": "python",
   "pygments_lexer": "ipython3",
   "version": "3.8.3"
  }
 },
 "nbformat": 4,
 "nbformat_minor": 2
}