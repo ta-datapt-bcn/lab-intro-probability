{
 "cells": [
  {
   "cell_type": "markdown",
   "metadata": {},
   "source": [
    "# Challenge 1\n",
    "\n",
    "A and B are events of a certain probability space $(\\omega, \\sigma, P)$ such that $P(A) = 0.3$, $P(B) = 0.6$ and $P(A \\cap B) = 0.1$.\n",
    "\n",
    "Which are false?\n",
    "* $P(A \\cup B) = 0.6$\n",
    "* $P(A \\cap B^{C}) = 0.2$\n",
    "* $P(A \\cap (B \\cup B^{C})) = 0.4$\n",
    "* $P(A^{C} \\cap B^{C}) = 0.3$\n",
    "* $P((A \\cap B)^{C}) = 0.9$"
   ]
  },
  {
   "cell_type": "markdown",
   "metadata": {},
   "source": [
    "--:\n",
    "\n",
    "𝑃(𝐴∪𝐵)=0.6 \n",
    "\n",
    "𝑃(𝐴∩(𝐵∪𝐵𝐶))=0.4\n",
    "\n",
    "𝑃(𝐴𝐶∩𝐵𝐶)=0.3"
   ]
  },
  {
   "cell_type": "markdown",
   "metadata": {},
   "source": [
    "# Challenge 2\n",
    "We have an urn with 10 white balls, 12 red balls and 8 black balls. Calculate the probability of:\n",
    "* Taking a white ball.\n",
    "* Taking a white ball after taking a black ball.\n",
    "* Taking a red ball after taking a black and a red ball.\n",
    "* Taking a red ball after taking a black and a red ball with reposition (that means after taking a ball I put it back to the urn).\n"
   ]
  },
  {
   "attachments": {
    "image.png": {
     "image/png": "[encoded data removed]"
    }
   },
   "cell_type": "markdown",
   "metadata": {},
   "source": [
    "--:\n",
    "\n",
    "White balls: 10/30\n",
    "\n",
    "WB after BB: 8/30 * 10/2 = 1,333333333\n",
    "\n",
    "RB after after BB and RD: 12/30 * 8/29 * 11/28 = 0,043349754\n",
    "\n",
    "\n",
    "RB after after BB and RD (W/Reposition): 12/30 * 8/30 * 11/30 = 0,039111111\n",
    "\n",
    "\n",
    "![image.png](attachment:image.png)"
   ]
  },
  {
   "cell_type": "markdown",
   "metadata": {},
   "source": [
    "# Challenge 3\n",
    "\n",
    "You are planning a picnic today, but the morning is cloudy. So you look for some data:\n",
    "* 50% of all rainy days start off cloudy!\n",
    "* But cloudy mornings are common (about 40% of days start cloudy)\n",
    "* And this is usually a dry month (only 3 of 30 days (10%) tend to be rainy)\n",
    "\n",
    "What is the chance of rain during the day?\n",
    "\n"
   ]
  },
  {
   "cell_type": "markdown",
   "metadata": {},
   "source": [
    "P(Nublado|Lluvia) = 0.5 <br>\n",
    "P(Nublado) = 0.4<br>\n",
    "P(Lluvia) = 0.1<br>\n",
    "\n",
    "\n",
    "P(A|B) = P(B|A) P(A) / P(B)\n",
    "\n",
    "\n",
    "P(Lluvia|Nublado) = P(Nublado|Lluvia) P(Lluvia) / P(Nublado)\n",
    "\n",
    "\n",
    "P(Lluvia|Nublado) = 0.5 * 0.1 / 0.4 = 0.125"
   ]
  },
  {
   "cell_type": "markdown",
   "metadata": {},
   "source": [
    "# Challenge 4\n",
    "\n",
    "By conducting a telephone survey, we asked 1000 people if they thought it is necessary to have more street lighting at night.\n",
    "\n",
    "We have met 480 men, 324 of which answered yes and 156 no, as well as 520 women, 351 of which answered yes and 169 no. We wonder if men and women have a different opinion or if gender is irrelevant to the question.\n",
    "\n",
    "(To see more clearly what they told us, it is best to place the data in a table)\n",
    "\n",
    "\n",
    "Consider the following events:\n",
    "- Wants more light (answered yes)\n",
    "- A man answered\n",
    "\n",
    "\n",
    "We ask ourselves if these events are independent, that is, if the fact of wanting more light depends on whether one is male or female. Are these events independent or not?"
   ]
  },
  {
   "cell_type": "markdown",
   "metadata": {},
   "source": [
    "|       \t| YES \t| NO  \t| TOTAL \t|\n",
    "|-------\t|-----\t|-----\t|-------\t|\n",
    "| MEN   \t| 324 \t| 156 \t| 480   \t|\n",
    "| WOMEN \t| 351 \t| 169 \t| 520   \t|\n",
    "| TOTAL \t| 671 \t| 325 \t| 1000  \t|\n",
    "\n",
    "| %     \t| YES   \t| NO    \t| TOTAL \t|\n",
    "|-------\t|-------\t|-------\t|-------\t|\n",
    "| MEN   \t| 32,4% \t| 15,6% \t| 48,0% \t|\n",
    "| WOMEN \t| 35,1% \t| 16,9% \t| 52,0% \t|\n",
    "| TOTAL \t| 67,5% \t| 32,5% \t| 100%  \t|\n",
    "\n",
    "\n",
    "Does the fact of wanting more light depends on whether one is male or female? \n",
    "\n",
    "NO\n",
    "\n",
    "| %     \t| YES   \t| TOTAL \t| YES BY GENDER IF % OF PEOPLE SURVEYED HAD BEEN THE SAME \t|\n",
    "|-------\t|-------\t|-------\t|---------------------------------------------------------\t|\n",
    "| MEN   \t| 32,4% \t| 48,0% \t| 67,5% (YES(MEN) / TOTAL(MEN))                           \t|\n",
    "| WOMEN \t| 35,1% \t| 52,0% \t| 67,5% (YES(WOMEN) / TOTAL(WOMEN))                       \t|\n",
    "| TOTAL \t| 67,5% \t| 100%  \t|                                                         \t|"
   ]
  }
 ],
 "metadata": {
  "kernelspec": {
   "display_name": "Python 3",
   "language": "python",
   "name": "python3"
  },
  "language_info": {
   "codemirror_mode": {
    "name": "ipython",
    "version": 3
   },
   "file_extension": ".py",
   "mimetype": "text/x-python",
   "name": "python",
   "nbconvert_exporter": "python",
   "pygments_lexer": "ipython3",
   "version": "3.7.6"
  }
 },
 "nbformat": 4,
 "nbformat_minor": 2
}
